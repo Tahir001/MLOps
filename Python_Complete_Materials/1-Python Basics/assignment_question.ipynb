{
 "cells": [
  {
   "cell_type": "markdown",
   "metadata": {},
   "source": [
    "# Lesson 1.2: Python Basics\n",
    "## Topics Covered:\n",
    "- Syntax and Semantics\n",
    "- Variables and Data Types\n",
    "- Basic Operators (Arithmetic, Comparison, Logical)\n"
   ]
  },
  {
   "cell_type": "markdown",
   "metadata": {},
   "source": [
    "## 1. Syntax and Semantics\n",
    "\n",
    "**Question 1:** Write a Python program to print \"Hello, World!\"."
   ]
  },
  {
   "cell_type": "code",
   "execution_count": 13,
   "metadata": {},
   "outputs": [
    {
     "name": "stdout",
     "output_type": "stream",
     "text": [
      "Hello World\n"
     ]
    }
   ],
   "source": [
    "# Your code here\n",
    "print(\"Hello World\")"
   ]
  },
  {
   "cell_type": "markdown",
   "metadata": {},
   "source": [
    "**Question 2:** Write a Python program that takes a user input and prints it."
   ]
  },
  {
   "cell_type": "code",
   "execution_count": 14,
   "metadata": {},
   "outputs": [
    {
     "name": "stdout",
     "output_type": "stream",
     "text": [
      "5\n"
     ]
    }
   ],
   "source": [
    "# Your code here\n",
    "x = int(input(\"put in a number here:\"))\n",
    "print(x)"
   ]
  },
  {
   "cell_type": "markdown",
   "metadata": {},
   "source": [
    "**Question 3:** Write a Python program to check if a number is positive, negative, or zero."
   ]
  },
  {
   "cell_type": "code",
   "execution_count": 18,
   "metadata": {},
   "outputs": [
    {
     "name": "stdout",
     "output_type": "stream",
     "text": [
      "Positive\n"
     ]
    }
   ],
   "source": [
    "# Your code here\n",
    "x = int(input(\"put in a number here:\"))\n",
    "if x == 0:\n",
    "    print(0)\n",
    "else:\n",
    "    print(\"Negative\" if x < 0 else \"Positive\")"
   ]
  },
  {
   "cell_type": "markdown",
   "metadata": {},
   "source": [
    "**Question 4:** Write a Python program to find the largest of three numbers."
   ]
  },
  {
   "cell_type": "code",
   "execution_count": 3,
   "metadata": {},
   "outputs": [
    {
     "name": "stdout",
     "output_type": "stream",
     "text": [
      "Put 3 numbers below\n",
      "81\n"
     ]
    }
   ],
   "source": [
    "# Your code here\n",
    "print(\"Put 3 numbers below\")\n",
    "int1 = input()\n",
    "int2 = input()\n",
    "int3 = input()\n",
    "print(max(int1, int2,int3))\n",
    "\n"
   ]
  },
  {
   "cell_type": "markdown",
   "metadata": {},
   "source": [
    "**Question 5:** Write a Python program to calculate the factorial of a number."
   ]
  },
  {
   "cell_type": "code",
   "execution_count": 6,
   "metadata": {},
   "outputs": [
    {
     "data": {
      "text/plain": [
       "120"
      ]
     },
     "execution_count": 6,
     "metadata": {},
     "output_type": "execute_result"
    }
   ],
   "source": [
    "# Your code here\n",
    "def factorial(n):\n",
    "    if n == 0:\n",
    "        return 1\n",
    "    return factorial(n-1) * n\n",
    "\n",
    "factorial(5)"
   ]
  },
  {
   "cell_type": "markdown",
   "metadata": {},
   "source": [
    "## 2. Variables and Data Types\n",
    "\n",
    "**Question 6:** Create variables of different data types: integer, float, string, and boolean. Print their values and types."
   ]
  },
  {
   "cell_type": "code",
   "execution_count": 7,
   "metadata": {},
   "outputs": [
    {
     "name": "stdout",
     "output_type": "stream",
     "text": [
      "Integer value: 10, type: <class 'int'>\n",
      "Float value: 10.5, type: <class 'float'>\n",
      "String value: Hello, type: <class 'str'>\n",
      "Boolean value: True, type: <class 'bool'>\n"
     ]
    }
   ],
   "source": [
    "\n",
    "# Solution\n",
    "integer_var = 10\n",
    "float_var = 10.5\n",
    "string_var = \"Hello\"\n",
    "boolean_var = True\n",
    "\n",
    "print(f\"Integer value: {integer_var}, type: {type(integer_var)}\")\n",
    "print(f\"Float value: {float_var}, type: {type(float_var)}\")\n",
    "print(f\"String value: {string_var}, type: {type(string_var)}\")\n",
    "print(f\"Boolean value: {boolean_var}, type: {type(boolean_var)}\")"
   ]
  },
  {
   "cell_type": "markdown",
   "metadata": {},
   "source": [
    "**Question 7:** Write a Python program to swap the values of two variables."
   ]
  },
  {
   "cell_type": "code",
   "execution_count": 11,
   "metadata": {},
   "outputs": [
    {
     "name": "stdout",
     "output_type": "stream",
     "text": [
      "10 5\n"
     ]
    }
   ],
   "source": [
    "def swap(a,b):\n",
    "    a,b = b, a\n",
    "    return a,b\n",
    "\n",
    "x= 5\n",
    "y = 10\n",
    "x, y = swap(x,y)\n",
    "print(x,y)"
   ]
  },
  {
   "cell_type": "markdown",
   "metadata": {},
   "source": [
    "**Question 8:** Write a Python program to convert Celsius to Fahrenheit."
   ]
  },
  {
   "cell_type": "code",
   "execution_count": 21,
   "metadata": {},
   "outputs": [
    {
     "name": "stdout",
     "output_type": "stream",
     "text": [
      "10 degrees C is 50 degrees F \n"
     ]
    },
    {
     "data": {
      "text/plain": [
       "50"
      ]
     },
     "execution_count": 21,
     "metadata": {},
     "output_type": "execute_result"
    }
   ],
   "source": [
    "# convert cel to F\n",
    "\n",
    "def convert_celius_to_fahrenheit(number):\n",
    "    faren = (number * 2) + 30\n",
    "    print(f\"{number} degrees C is {faren} degrees F \")\n",
    "    return faren\n",
    "\n",
    "num = int(input(\"Please enter a number:\"))\n",
    "convert_celius_to_fahrenheit(int(num))"
   ]
  },
  {
   "cell_type": "code",
   "execution_count": 12,
   "metadata": {},
   "outputs": [
    {
     "name": "stdout",
     "output_type": "stream",
     "text": [
      "30.0°C is equal to 86.0°F\n"
     ]
    }
   ],
   "source": [
    "# Your code here\n",
    "celsius = float(input(\"Enter temperature in Celsius: \"))\n",
    "fahrenheit = (celsius * 9/5) + 32\n",
    "print(f\"{celsius}°C is equal to {fahrenheit}°F\")"
   ]
  },
  {
   "cell_type": "markdown",
   "metadata": {},
   "source": [
    "**Question 9:** Write a Python program to concatenate two strings."
   ]
  },
  {
   "cell_type": "code",
   "execution_count": 23,
   "metadata": {},
   "outputs": [
    {
     "name": "stdout",
     "output_type": "stream",
     "text": [
      "Tahir Muhammad\n"
     ]
    }
   ],
   "source": [
    "# Your code here\n",
    "s1 = input()\n",
    "s2 = input()\n",
    "print(s1 + \" \" + s2)"
   ]
  },
  {
   "cell_type": "markdown",
   "metadata": {},
   "source": [
    "**Question 10:** Write a Python program to check if a variable is of a specific data type."
   ]
  },
  {
   "cell_type": "code",
   "execution_count": 28,
   "metadata": {},
   "outputs": [
    {
     "data": {
      "text/plain": [
       "'string'"
      ]
     },
     "execution_count": 28,
     "metadata": {},
     "output_type": "execute_result"
    }
   ],
   "source": [
    "# Your code here\n",
    "def check_var(variable):\n",
    "    if type(variable) == int:\n",
    "        return \"integer\"\n",
    "    elif type(variable) == float:\n",
    "        return \"float\"\n",
    "    elif type(variable) == str:\n",
    "        return 'string'\n",
    "    elif type(variable) == bool:\n",
    "        return 'boolean'\n",
    "    else:\n",
    "        return \"I don't know!\"\n",
    "    \n",
    "check_var('true')"
   ]
  },
  {
   "cell_type": "markdown",
   "metadata": {},
   "source": [
    "## 3. Basic Operators (Arithmetic, Comparison, Logical)\n",
    "\n",
    "**Question 11:** Write a Python program to perform arithmetic operations: addition, subtraction, multiplication, and division."
   ]
  },
  {
   "cell_type": "code",
   "execution_count": null,
   "metadata": {},
   "outputs": [
    {
     "name": "stdout",
     "output_type": "stream",
     "text": [
      "15\n",
      "5\n",
      "50\n",
      "You cannot divide by a zero!\n",
      "You cannot divide by a zero! Please chose a different number.\n"
     ]
    }
   ],
   "source": [
    "# Your code here\n",
    "class Calculator:\n",
    "\n",
    "    def __init__(self):\n",
    "        pass\n",
    "\n",
    "    def add(self, x, y):\n",
    "        return x + y\n",
    "    \n",
    "    def subtract(self, x,y):\n",
    "        return x - y\n",
    "    \n",
    "    def multiplication(self, x,y):\n",
    "        return x * y\n",
    "    \n",
    "    def division(self, x,y):\n",
    "        try: \n",
    "            return x / y\n",
    "        except ZeroDivisionError:\n",
    "            return \"You cannot divide by a zero!\"\n",
    "    \n",
    "    def integer_division(self, x,y):\n",
    "        try: \n",
    "            return x // y\n",
    "        except ZeroDivisionError:\n",
    "            return \"You cannot divide by a zero! Please chose a different number.\"\n",
    "\n",
    "Tahirs_calculator = Calculator()\n",
    "print(Tahirs_calculator.add(10,5))\n",
    "print(Tahirs_calculator.subtract(10,5))\n",
    "print(Tahirs_calculator.multiplication(10,5))\n",
    "print(Tahirs_calculator.division(10,0))\n",
    "print(Tahirs_calculator.integer_division(10,0))\n",
    "\n"
   ]
  },
  {
   "cell_type": "markdown",
   "metadata": {},
   "source": [
    "**Question 12:** Write a Python program to demonstrate comparison operators: equal to, not equal to, greater than, less than."
   ]
  },
  {
   "cell_type": "code",
   "execution_count": null,
   "metadata": {},
   "outputs": [],
   "source": [
    "# Your code here"
   ]
  },
  {
   "cell_type": "markdown",
   "metadata": {},
   "source": [
    "**Question 13:** Write a Python program to demonstrate logical operators: and, or, not."
   ]
  },
  {
   "cell_type": "code",
   "execution_count": null,
   "metadata": {},
   "outputs": [],
   "source": [
    "# Your code here"
   ]
  },
  {
   "cell_type": "markdown",
   "metadata": {},
   "source": [
    "**Question 14:** Write a Python program to calculate the square of a number."
   ]
  },
  {
   "cell_type": "code",
   "execution_count": 31,
   "metadata": {},
   "outputs": [
    {
     "data": {
      "text/plain": [
       "16"
      ]
     },
     "execution_count": 31,
     "metadata": {},
     "output_type": "execute_result"
    }
   ],
   "source": [
    "# Your code here\n",
    "\n",
    "def calulate_sq(num):\n",
    "    return num ** 2\n",
    "\n",
    "calulate_sq(4)"
   ]
  },
  {
   "cell_type": "markdown",
   "metadata": {},
   "source": [
    "**Question 15:** Write a Python program to check if a number is even or odd."
   ]
  },
  {
   "cell_type": "code",
   "execution_count": 32,
   "metadata": {},
   "outputs": [
    {
     "data": {
      "text/plain": [
       "'Odd'"
      ]
     },
     "execution_count": 32,
     "metadata": {},
     "output_type": "execute_result"
    }
   ],
   "source": [
    "# Your code here\n",
    "def check_even_or_odd(num):\n",
    "    if num %2 == 0:\n",
    "        return 'Even'\n",
    "    else:\n",
    "        return 'Odd'\n",
    "check_even_or_odd(5)"
   ]
  },
  {
   "cell_type": "markdown",
   "metadata": {},
   "source": [
    "**Question 16:** Write a Python program to find the sum of the first n natural numbers."
   ]
  },
  {
   "cell_type": "code",
   "execution_count": 33,
   "metadata": {},
   "outputs": [
    {
     "data": {
      "text/plain": [
       "10"
      ]
     },
     "execution_count": 33,
     "metadata": {},
     "output_type": "execute_result"
    }
   ],
   "source": [
    "# Your code here\n",
    "def summation_to_n(n):\n",
    "    return sum(range(0,n))\n",
    "\n",
    "summation_to_n(5)"
   ]
  },
  {
   "cell_type": "markdown",
   "metadata": {},
   "source": [
    "**Question 17:** Write a Python program to check if a year is a leap year."
   ]
  },
  {
   "cell_type": "code",
   "execution_count": null,
   "metadata": {},
   "outputs": [],
   "source": [
    "# Your code here"
   ]
  },
  {
   "cell_type": "markdown",
   "metadata": {},
   "source": [
    "**Question 18:** Write a Python program to reverse a string."
   ]
  },
  {
   "cell_type": "code",
   "execution_count": 37,
   "metadata": {},
   "outputs": [
    {
     "data": {
      "text/plain": [
       "'rihaT'"
      ]
     },
     "execution_count": 37,
     "metadata": {},
     "output_type": "execute_result"
    }
   ],
   "source": [
    "# Your code here\n",
    "def reverse_s(s):\n",
    "    return s[::-1]\n",
    "\n",
    "def reverse_s_two(s):\n",
    "    if len(s) == 1:\n",
    "        return s\n",
    "\n",
    "    return s[-1] + reverse_s_two(s[:-1])\n",
    "\n",
    "reverse_s(\"Tahir\")"
   ]
  },
  {
   "cell_type": "markdown",
   "metadata": {},
   "source": [
    "**Question 19:** Write a Python program to check if a string is a palindrome."
   ]
  },
  {
   "cell_type": "code",
   "execution_count": 47,
   "metadata": {},
   "outputs": [
    {
     "data": {
      "text/plain": [
       "True"
      ]
     },
     "execution_count": 47,
     "metadata": {},
     "output_type": "execute_result"
    }
   ],
   "source": [
    "# Your code here\n",
    "\n",
    "def palindrome(s):\n",
    "    L, R = 0, len(s) -1 \n",
    "\n",
    "    while L <= R:\n",
    "        if s[L] != s[R]:\n",
    "            return False\n",
    "        L += 1\n",
    "        R -= 1\n",
    "\n",
    "    return True\n",
    "palindrome(\"\")\n"
   ]
  },
  {
   "cell_type": "markdown",
   "metadata": {},
   "source": [
    "**Question 20:** Write a Python program to sort a list of numbers in ascending order."
   ]
  },
  {
   "cell_type": "code",
   "execution_count": 48,
   "metadata": {},
   "outputs": [],
   "source": [
    "# Your code here\n",
    "def sort_nums(array):\n",
    "    return sorted(array)"
   ]
  },
  {
   "cell_type": "code",
   "execution_count": null,
   "metadata": {},
   "outputs": [],
   "source": []
  }
 ],
 "metadata": {
  "kernelspec": {
   "display_name": "Python 3",
   "language": "python",
   "name": "python3"
  },
  "language_info": {
   "codemirror_mode": {
    "name": "ipython",
    "version": 3
   },
   "file_extension": ".py",
   "mimetype": "text/x-python",
   "name": "python",
   "nbconvert_exporter": "python",
   "pygments_lexer": "ipython3",
   "version": "3.9.10"
  }
 },
 "nbformat": 4,
 "nbformat_minor": 4
}
