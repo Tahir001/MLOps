{
 "cells": [
  {
   "cell_type": "markdown",
   "id": "08d16ffa",
   "metadata": {},
   "source": [
    "# Connect 4 Game Rules \n",
    "\n",
    "### Requirements\n",
    "\n",
    "Some possible questions to ask:\n",
    "\n",
    "    What are the rules of the game?\n",
    "    What size is the grid?\n",
    "    How many players are there? Player vs Computer? Player vs Player?\n",
    "    Are we keeping track of the score?\n",
    "\n",
    "Basics\n",
    "\n",
    "    The game will be played by only two players, player vs player\n",
    "    The game board should be of variable dimensions\n",
    "    The target is to connect N discs in a row (vertically, horizontally or diagonally)\n",
    "        N is a variable (e.g. connect 4, 5, 6, etc)\n",
    "    There should be a score tracking system\n",
    "        After a player reaches the target score, they are the winner\n",
    "\n"
   ]
  },
  {
   "cell_type": "markdown",
   "id": "53612e94",
   "metadata": {},
   "source": [
    "### High Level Design\n",
    "\n",
    "Grid Class <br>\n",
    "    We will need a Grid class to maintain the state of the 2-D board\n",
    "        The board cell can be empty, yellow (occupied by Player 1) or red (occupied by Player 2)\n",
    "        The grid will also be responsible for checking for a win condition\n",
    "        \n",
    "Player Class <br>\n",
    "    We can have a Player class to represent the player's piece color\n",
    "        This isn't super important, but encapsulating information is generally a good practice\n",
    "        \n",
    "Game Class<br> \n",
    "    The Game class will be composed of the Grid and Players\n",
    "        The Game class will be responsible for the game loop and keeping track of the score\n"
   ]
  },
  {
   "cell_type": "code",
   "execution_count": 1,
   "id": "b572dacd",
   "metadata": {},
   "outputs": [],
   "source": [
    "# Ok.... "
   ]
  },
  {
   "cell_type": "code",
   "execution_count": 2,
   "id": "48e102f3",
   "metadata": {},
   "outputs": [],
   "source": [
    "# [Item Id, Item Type, Name of the Item, Price of the Item]"
   ]
  },
  {
   "cell_type": "code",
   "execution_count": null,
   "id": "465d274f",
   "metadata": {},
   "outputs": [],
   "source": [
    "class Menu:\n",
    "    \n",
    "    def __init__(self, category: ENUM):\n",
    "        self.category = category # Option, Dish, Meatballs\n",
    "    \n",
    "    def \n",
    "    \n",
    "    \n"
   ]
  }
 ],
 "metadata": {
  "kernelspec": {
   "display_name": "Python 3 (ipykernel)",
   "language": "python",
   "name": "python3"
  },
  "language_info": {
   "codemirror_mode": {
    "name": "ipython",
    "version": 3
   },
   "file_extension": ".py",
   "mimetype": "text/x-python",
   "name": "python",
   "nbconvert_exporter": "python",
   "pygments_lexer": "ipython3",
   "version": "3.9.18"
  }
 },
 "nbformat": 4,
 "nbformat_minor": 5
}
