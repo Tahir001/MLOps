{
 "cells": [
  {
   "cell_type": "markdown",
   "metadata": {},
   "source": [
    "#### Working With File Paths\n",
    "When working with files in Python, handling file paths correctly is crucial to ensure your code works across different operating systems and environments. Python provides several modules and functions for working with file paths effectively."
   ]
  },
  {
   "cell_type": "code",
   "execution_count": 20,
   "metadata": {},
   "outputs": [
    {
     "name": "stdout",
     "output_type": "stream",
     "text": [
      "Current working directory is /Users/tahir/Desktop/Github/MLOps/Python_Complete_Materials/6-File Handling\n"
     ]
    }
   ],
   "source": [
    "#### Using the os module\n",
    "import os\n",
    "cwd=os.getcwd()\n",
    "print(f\"Current working directory is {cwd}\")"
   ]
  },
  {
   "cell_type": "code",
   "execution_count": 21,
   "metadata": {},
   "outputs": [
    {
     "ename": "FileExistsError",
     "evalue": "[Errno 17] File exists: 'test123'",
     "output_type": "error",
     "traceback": [
      "\u001b[0;31m---------------------------------------------------------------------------\u001b[0m",
      "\u001b[0;31mFileExistsError\u001b[0m                           Traceback (most recent call last)",
      "Input \u001b[0;32mIn [21]\u001b[0m, in \u001b[0;36m<module>\u001b[0;34m\u001b[0m\n\u001b[1;32m      1\u001b[0m \u001b[38;5;66;03m## create a new directory\u001b[39;00m\n\u001b[1;32m      2\u001b[0m new_directory\u001b[38;5;241m=\u001b[39m\u001b[38;5;124m\"\u001b[39m\u001b[38;5;124mtest123\u001b[39m\u001b[38;5;124m\"\u001b[39m\n\u001b[0;32m----> 3\u001b[0m \u001b[43mos\u001b[49m\u001b[38;5;241;43m.\u001b[39;49m\u001b[43mmkdir\u001b[49m\u001b[43m(\u001b[49m\u001b[43mnew_directory\u001b[49m\u001b[43m)\u001b[49m\n\u001b[1;32m      4\u001b[0m \u001b[38;5;28mprint\u001b[39m(\u001b[38;5;124mf\u001b[39m\u001b[38;5;124m\"\u001b[39m\u001b[38;5;124mDirectory \u001b[39m\u001b[38;5;124m'\u001b[39m\u001b[38;5;132;01m{\u001b[39;00mnew_directory\u001b[38;5;132;01m}\u001b[39;00m\u001b[38;5;124m'\u001b[39m\u001b[38;5;124m create\u001b[39m\u001b[38;5;124m\"\u001b[39m)\n",
      "\u001b[0;31mFileExistsError\u001b[0m: [Errno 17] File exists: 'test123'"
     ]
    }
   ],
   "source": [
    "## create a new directory\n",
    "new_directory=\"test123\"\n",
    "os.mkdir(new_directory)\n",
    "print(f\"Directory '{new_directory}' create\")\n"
   ]
  },
  {
   "cell_type": "code",
   "execution_count": 22,
   "metadata": {},
   "outputs": [
    {
     "name": "stdout",
     "output_type": "stream",
     "text": [
      "['destination.txt', '6.1-fileoperation.ipynb', 'filehandlingsolution.ipynb', 'filehandlingquestions.ipynb', 'log.txt', 'filehandlingquestions.zip', 'example.bin', 'example.txt', '6.2-filepath.ipynb', '.ipynb_checkpoints', 'output.txt', 'package', 'test123']\n"
     ]
    }
   ],
   "source": [
    "## Listing Files And Directories\n",
    "items=os.listdir('.')\n",
    "print(items)"
   ]
  },
  {
   "cell_type": "code",
   "execution_count": 7,
   "metadata": {},
   "outputs": [
    {
     "name": "stdout",
     "output_type": "stream",
     "text": [
      "folder/file.txt\n"
     ]
    }
   ],
   "source": [
    "### Joining Paths\n",
    "\n",
    "dir_name=\"folder\"\n",
    "file_name=\"file.txt\"\n",
    "full_path=os.path.join(dir_name,file_name)\n",
    "print(full_path)"
   ]
  },
  {
   "cell_type": "code",
   "execution_count": 23,
   "metadata": {},
   "outputs": [
    {
     "name": "stdout",
     "output_type": "stream",
     "text": [
      "/Users/tahir/Desktop/Github/MLOps/Python_Complete_Materials/6-File Handling/folder/file.txt\n"
     ]
    }
   ],
   "source": [
    "\n",
    "dir_name=\"folder\"\n",
    "file_name=\"file.txt\"\n",
    "full_path=os.path.join(os.getcwd(),dir_name,file_name)\n",
    "print(full_path)"
   ]
  },
  {
   "cell_type": "code",
   "execution_count": 24,
   "metadata": {},
   "outputs": [
    {
     "name": "stdout",
     "output_type": "stream",
     "text": [
      "The path 'test123' exists\n"
     ]
    }
   ],
   "source": [
    "path='test123'\n",
    "if os.path.exists(path):\n",
    "    print(f\"The path '{path}' exists\")\n",
    "else:\n",
    "    print(f\"The path '{path}' does not exists\")"
   ]
  },
  {
   "cell_type": "code",
   "execution_count": 25,
   "metadata": {},
   "outputs": [
    {
     "name": "stdout",
     "output_type": "stream",
     "text": [
      "total 136\r\n",
      "drwxr-xr-x@ 15 tahir  staff   480B 16 Feb 13:52 \u001b[34m.\u001b[m\u001b[m\r\n",
      "drwx------@ 17 tahir  staff   544B  5 Jan 23:39 \u001b[34m..\u001b[m\u001b[m\r\n",
      "drwxr-xr-x   6 tahir  staff   192B 15 Feb 14:31 \u001b[34m.ipynb_checkpoints\u001b[m\u001b[m\r\n",
      "-rw-r--r--@  1 tahir  staff   7.8K 16 Feb 13:52 6.1-fileoperation.ipynb\r\n",
      "-rw-r--r--@  1 tahir  staff   7.5K 15 Feb 14:28 6.2-filepath.ipynb\r\n",
      "-rw-r--r--@  1 tahir  staff    12B 15 Feb 23:14 destination.txt\r\n",
      "-rw-r--r--@  1 tahir  staff     5B 15 Feb 14:20 example.bin\r\n",
      "-rw-r--r--@  1 tahir  staff   104B 16 Feb 13:52 example.txt\r\n",
      "-rw-r--r--@  1 tahir  staff   8.3K 15 Feb 14:35 filehandlingquestions.ipynb\r\n",
      "-rw-r--r--@  1 tahir  staff   3.2K  1 Jul  2024 filehandlingquestions.zip\r\n",
      "-rw-r--r--@  1 tahir  staff    12K 15 Feb 23:15 filehandlingsolution.ipynb\r\n",
      "-rw-r--r--   1 tahir  staff   184B 13 Jan 06:58 log.txt\r\n",
      "-rw-r--r--   1 tahir  staff    12B 15 Feb 23:14 output.txt\r\n",
      "drwxr-xr-x@  2 tahir  staff    64B 11 Jun  2024 \u001b[34mpackage\u001b[m\u001b[m\r\n",
      "drwxr-xr-x   2 tahir  staff    64B 15 Feb 14:26 \u001b[34mtest123\u001b[m\u001b[m\r\n"
     ]
    }
   ],
   "source": [
    "!ls -lah"
   ]
  },
  {
   "cell_type": "code",
   "execution_count": 14,
   "metadata": {},
   "outputs": [
    {
     "data": {
      "text/plain": [
       "['destination.txt',\n",
       " '6.1-fileoperation.ipynb',\n",
       " 'filehandlingsolution.ipynb',\n",
       " 'filehandlingquestions.ipynb',\n",
       " 'log.txt',\n",
       " 'filehandlingquestions.zip',\n",
       " 'example.bin',\n",
       " 'example.txt',\n",
       " '6.2-filepath.ipynb',\n",
       " '.ipynb_checkpoints',\n",
       " 'output.txt',\n",
       " 'package',\n",
       " 'test123']"
      ]
     },
     "execution_count": 14,
     "metadata": {},
     "output_type": "execute_result"
    }
   ],
   "source": [
    "os.listdir()"
   ]
  },
  {
   "cell_type": "code",
   "execution_count": 26,
   "metadata": {},
   "outputs": [
    {
     "name": "stdout",
     "output_type": "stream",
     "text": [
      "The path 'destination.txt' is a file.\n",
      "The path '6.1-fileoperation.ipynb' is a file.\n",
      "The path 'filehandlingsolution.ipynb' is a file.\n",
      "The path 'filehandlingquestions.ipynb' is a file.\n",
      "The path 'log.txt' is a file.\n",
      "The path 'filehandlingquestions.zip' is a file.\n",
      "The path 'example.bin' is a file.\n",
      "The path 'example.txt' is a file.\n",
      "The path '6.2-filepath.ipynb' is a file.\n",
      "The path '.ipynb_checkpoints' is a directory.\n",
      "The path 'output.txt' is a file.\n",
      "The path 'package' is a directory.\n",
      "The path 'test123' is a directory.\n"
     ]
    }
   ],
   "source": [
    "#Checking if a Path is a File or Directory\n",
    "import os\n",
    "\n",
    "all_files = os.listdir()\n",
    "\n",
    "for file in all_files:\n",
    "\n",
    "    if os.path.isfile(file):\n",
    "        print(f\"The path '{file}' is a file.\")\n",
    "    elif os.path.isdir(file):\n",
    "        print(f\"The path '{file}' is a directory.\")\n",
    "    else:\n",
    "        print(f\"The path '{file}' is neither a file nor a directory.\")\n"
   ]
  },
  {
   "cell_type": "code",
   "execution_count": 27,
   "metadata": {},
   "outputs": [
    {
     "name": "stdout",
     "output_type": "stream",
     "text": [
      "/Users/tahir/Desktop/Github/MLOps/Python_Complete_Materials/6-File Handling/example.txt\n"
     ]
    }
   ],
   "source": [
    "## Getting the absolute path\n",
    "relative_path='example.txt'\n",
    "absolute_path=os.path.abspath(relative_path)\n",
    "print(absolute_path)"
   ]
  },
  {
   "cell_type": "code",
   "execution_count": null,
   "metadata": {},
   "outputs": [],
   "source": []
  }
 ],
 "metadata": {
  "kernelspec": {
   "display_name": "Python 3 (ipykernel)",
   "language": "python",
   "name": "python3"
  },
  "language_info": {
   "codemirror_mode": {
    "name": "ipython",
    "version": 3
   },
   "file_extension": ".py",
   "mimetype": "text/x-python",
   "name": "python",
   "nbconvert_exporter": "python",
   "pygments_lexer": "ipython3",
   "version": "3.9.18"
  }
 },
 "nbformat": 4,
 "nbformat_minor": 2
}
