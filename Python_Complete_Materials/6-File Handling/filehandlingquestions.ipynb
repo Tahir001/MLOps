{
 "cells": [
  {
   "cell_type": "code",
   "execution_count": 4,
   "id": "5ac13cb8",
   "metadata": {},
   "outputs": [
    {
     "name": "stdout",
     "output_type": "stream",
     "text": [
      "Hello world\n",
      "This is a new line \n",
      "This is a new line written by Tahir\n",
      "Where is the current read position?\n",
      "Writing a new line by Tahir\n"
     ]
    }
   ],
   "source": [
    "import os\n",
    "\n",
    "with open('example.txt', 'r') as file:\n",
    "    content = file.read()\n",
    "    print(content)"
   ]
  },
  {
   "cell_type": "code",
   "execution_count": 3,
   "id": "d875cc18",
   "metadata": {},
   "outputs": [],
   "source": [
    "# Write to a file\n",
    "with open('example.txt', 'a') as file:\n",
    "    file.write(\"Writing a new line by Tahir\")"
   ]
  },
  {
   "cell_type": "code",
   "execution_count": 10,
   "id": "559d7fc2",
   "metadata": {},
   "outputs": [
    {
     "name": "stdout",
     "output_type": "stream",
     "text": [
      "total 128\r\n",
      "drwxr-xr-x@ 15 tahir  staff   480B 15 Feb 14:33 \u001b[34m.\u001b[m\u001b[m\r\n",
      "drwx------@ 17 tahir  staff   544B  5 Jan 23:39 \u001b[34m..\u001b[m\u001b[m\r\n",
      "drwxr-xr-x   6 tahir  staff   192B 15 Feb 14:31 \u001b[34m.ipynb_checkpoints\u001b[m\u001b[m\r\n",
      "-rw-r--r--@  1 tahir  staff   7.6K 15 Feb 14:25 6.1-fileoperation.ipynb\r\n",
      "-rw-r--r--@  1 tahir  staff   7.5K 15 Feb 14:28 6.2-filepath.ipynb\r\n",
      "-rw-r--r--@  1 tahir  staff    13B 13 Jan 06:57 destination.txt\r\n",
      "-rw-r--r--@  1 tahir  staff     5B 15 Feb 14:20 example.bin\r\n",
      "-rw-r--r--@  1 tahir  staff   131B 15 Feb 14:31 example.txt\r\n",
      "-rw-r--r--@  1 tahir  staff   4.8K 15 Feb 14:33 filehandlingquestions.ipynb\r\n",
      "-rw-r--r--@  1 tahir  staff   3.2K  1 Jul  2024 filehandlingquestions.zip\r\n",
      "-rw-r--r--@  1 tahir  staff    13K 15 Feb 14:31 filehandlingsolution.ipynb\r\n",
      "-rw-r--r--   1 tahir  staff   184B 13 Jan 06:58 log.txt\r\n",
      "-rw-r--r--   1 tahir  staff    13B 13 Jan 06:57 output.txt\r\n",
      "drwxr-xr-x@  2 tahir  staff    64B 11 Jun  2024 \u001b[34mpackage\u001b[m\u001b[m\r\n",
      "drwxr-xr-x   2 tahir  staff    64B 15 Feb 14:26 \u001b[34mtest123\u001b[m\u001b[m\r\n"
     ]
    }
   ],
   "source": [
    "!ls -lah"
   ]
  },
  {
   "cell_type": "code",
   "execution_count": 8,
   "id": "b8d7dade",
   "metadata": {},
   "outputs": [
    {
     "ename": "FileNotFoundError",
     "evalue": "[Errno 2] No such file or directory: '{file1}'",
     "output_type": "error",
     "traceback": [
      "\u001b[0;31m---------------------------------------------------------------------------\u001b[0m",
      "\u001b[0;31mFileNotFoundError\u001b[0m                         Traceback (most recent call last)",
      "Input \u001b[0;32mIn [8]\u001b[0m, in \u001b[0;36m<module>\u001b[0;34m\u001b[0m\n\u001b[1;32m      8\u001b[0m         file_2\u001b[38;5;241m.\u001b[39mwrite(contents)\n\u001b[1;32m     10\u001b[0m     \u001b[38;5;28;01mreturn\u001b[39;00m \u001b[38;5;28;01mNone\u001b[39;00m\n\u001b[0;32m---> 12\u001b[0m \u001b[43mcopy_contents\u001b[49m\u001b[43m(\u001b[49m\u001b[38;5;124;43m'\u001b[39;49m\u001b[38;5;124;43mexample.txt\u001b[39;49m\u001b[38;5;124;43m'\u001b[39;49m\u001b[43m,\u001b[49m\u001b[43m \u001b[49m\u001b[38;5;124;43m'\u001b[39;49m\u001b[38;5;124;43mlog.txt\u001b[39;49m\u001b[38;5;124;43m'\u001b[39;49m\u001b[43m)\u001b[49m\n",
      "Input \u001b[0;32mIn [8]\u001b[0m, in \u001b[0;36mcopy_contents\u001b[0;34m(file1, file)\u001b[0m\n\u001b[1;32m      1\u001b[0m \u001b[38;5;28;01mdef\u001b[39;00m \u001b[38;5;21mcopy_contents\u001b[39m(file1, file):\n\u001b[0;32m----> 3\u001b[0m     \u001b[38;5;28;01mwith\u001b[39;00m \u001b[38;5;28;43mopen\u001b[39;49m\u001b[43m(\u001b[49m\u001b[38;5;124;43m'\u001b[39;49m\u001b[38;5;132;43;01m{file1}\u001b[39;49;00m\u001b[38;5;124;43m'\u001b[39;49m\u001b[43m,\u001b[49m\u001b[43m \u001b[49m\u001b[38;5;124;43m'\u001b[39;49m\u001b[38;5;124;43mr\u001b[39;49m\u001b[38;5;124;43m'\u001b[39;49m\u001b[43m)\u001b[49m \u001b[38;5;28;01mas\u001b[39;00m file_1:\n\u001b[1;32m      4\u001b[0m         contents \u001b[38;5;241m=\u001b[39m file_1\u001b[38;5;241m.\u001b[39mread()\n\u001b[1;32m      5\u001b[0m         \u001b[38;5;28mprint\u001b[39m(contents)\n",
      "\u001b[0;31mFileNotFoundError\u001b[0m: [Errno 2] No such file or directory: '{file1}'"
     ]
    }
   ],
   "source": [
    "def copy_contents(file1, file):\n",
    "    \n",
    "    with open('{example.txt}', 'r') as file_1:\n",
    "        contents = file_1.read()\n",
    "        print(contents)\n",
    "    \n",
    "    with open(\"{file2}\", 'w') as file_2:\n",
    "        file_2.write(contents)\n",
    "        \n",
    "    return None\n",
    "\n",
    "copy_contents('example.txt', 'log.txt')"
   ]
  },
  {
   "cell_type": "markdown",
   "id": "672aa541",
   "metadata": {},
   "source": [
    "# Module: File Handling Assignments\n",
    "## Lesson: File Handling and Operations\n",
    "### Assignment 1: Reading a File\n",
    "\n",
    "Write a function that reads the contents of a file named `sample.txt` and prints each line.\n",
    "\n",
    "### Assignment 2: Writing to a File\n",
    "\n",
    "Write a function that writes a list of strings to a file named `output.txt`, with each string on a new line.\n",
    "\n",
    "### Assignment 3: Copying a File\n",
    "\n",
    "Write a function that copies the contents of a file named `source.txt` to a new file named `destination.txt`.\n",
    "\n",
    "### Assignment 4: Appending to a File\n",
    "\n",
    "Write a function that appends a given string to the end of a file named `log.txt`.\n",
    "\n",
    "### Assignment 5: Counting Words in a File\n",
    "\n",
    "Write a function that reads the contents of a file named `document.txt` and returns the number of words in the file.\n",
    "\n",
    "### Assignment 6: Finding and Replacing Text\n",
    "\n",
    "Write a function that finds and replaces all occurrences of a given word in a file named `data.txt` with another word.\n",
    "\n",
    "### Assignment 7: Reading a File in Reverse\n",
    "\n",
    "Write a function that reads the contents of a file named `reverse.txt` and prints each line in reverse order.\n",
    "\n",
    "### Assignment 8: Counting Lines, Words, and Characters\n",
    "\n",
    "Write a function that reads the contents of a file named `stats.txt` and returns the number of lines, words, and characters in the file.\n",
    "\n",
    "### Assignment 9: Merging Multiple Files\n",
    "\n",
    "Write a function that merges the contents of multiple files into a single file named `merged.txt`.\n",
    "\n",
    "### Assignment 10: Splitting a Large File\n",
    "\n",
    "Write a function that splits a large file named `large.txt` into smaller files of 100 lines each.\n",
    "\n",
    "### Assignment 11: Creating a Log File\n",
    "\n",
    "Write a function that creates a log file named `activity.log` and writes log messages with timestamps.\n",
    "\n",
    "### Assignment 12: Binary File Operations\n",
    "\n",
    "Write a function that reads a binary file named `image.bin` and writes its contents to another binary file named `copy_image.bin`.\n",
    "\n",
    "### Assignment 13: CSV File Operations\n",
    "\n",
    "Write a function that reads a CSV file named `data.csv` and prints its contents as a list of dictionaries.\n",
    "\n",
    "### Assignment 14: JSON File Operations\n",
    "\n",
    "Write a function that reads a JSON file named `data.json` and prints its contents as a Python dictionary.\n",
    "\n",
    "### Assignment 15: File Permission Handling\n",
    "\n",
    "Write a function that attempts to read a file named `protected.txt` and handles any permission errors gracefully by printing an error message."
   ]
  },
  {
   "cell_type": "code",
   "execution_count": null,
   "id": "0f6c0679",
   "metadata": {},
   "outputs": [],
   "source": []
  }
 ],
 "metadata": {
  "kernelspec": {
   "display_name": "Python 3 (ipykernel)",
   "language": "python",
   "name": "python3"
  },
  "language_info": {
   "codemirror_mode": {
    "name": "ipython",
    "version": 3
   },
   "file_extension": ".py",
   "mimetype": "text/x-python",
   "name": "python",
   "nbconvert_exporter": "python",
   "pygments_lexer": "ipython3",
   "version": "3.9.18"
  }
 },
 "nbformat": 4,
 "nbformat_minor": 5
}
