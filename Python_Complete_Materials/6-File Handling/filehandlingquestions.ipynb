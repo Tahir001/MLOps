{
 "cells": [
  {
   "cell_type": "code",
   "execution_count": 5,
   "id": "5ac13cb8",
   "metadata": {},
   "outputs": [
    {
     "name": "stdout",
     "output_type": "stream",
     "text": [
      "Hello\n",
      "World\n",
      "Writing a new line by Tahir\n"
     ]
    }
   ],
   "source": [
    "import os\n",
    "\n",
    "with open('example.txt', 'r') as file:\n",
    "    content = file.read()\n",
    "    print(content)"
   ]
  },
  {
   "cell_type": "code",
   "execution_count": 11,
   "id": "d875cc18",
   "metadata": {},
   "outputs": [],
   "source": [
    "# Write to a file\n",
    "with open('example.txt', 'a') as file:\n",
    "    file.write(\"Writing a new line by Tahir\\n\")"
   ]
  },
  {
   "cell_type": "code",
   "execution_count": 12,
   "id": "559d7fc2",
   "metadata": {},
   "outputs": [
    {
     "name": "stdout",
     "output_type": "stream",
     "text": [
      "total 136\n",
      "drwxr-xr-x@ 14 tahir  staff   448B Apr 25 03:30 \u001b[34m.\u001b[m\u001b[m\n",
      "drwx------@ 17 tahir  staff   544B Jan  5 23:39 \u001b[34m..\u001b[m\u001b[m\n",
      "drwxr-xr-x   6 tahir  staff   192B Feb 15 14:31 \u001b[34m.ipynb_checkpoints\u001b[m\u001b[m\n",
      "-rw-r--r--@  1 tahir  staff   7.8K Feb 16 13:52 6.1-fileoperation.ipynb\n",
      "-rw-r--r--@  1 tahir  staff   8.7K Feb 16 13:53 6.2-filepath.ipynb\n",
      "-rw-r--r--@  1 tahir  staff    12B Feb 15 23:14 destination.txt\n",
      "-rw-r--r--@  1 tahir  staff   150B Apr 25 03:30 example.txt\n",
      "-rw-r--r--@  1 tahir  staff   8.2K Apr 25 03:30 filehandlingquestions.ipynb\n",
      "-rw-r--r--@  1 tahir  staff   3.2K Jul  1  2024 filehandlingquestions.zip\n",
      "-rw-r--r--@  1 tahir  staff    13K Apr 23 02:47 filehandlingsolution.ipynb\n",
      "-rw-r--r--   1 tahir  staff   184B Jan 13 06:58 log.txt\n",
      "-rw-r--r--   1 tahir  staff    12B Feb 16 13:54 output.txt\n",
      "drwxr-xr-x@  2 tahir  staff    64B Jun 11  2024 \u001b[34mpackage\u001b[m\u001b[m\n",
      "drwxr-xr-x   2 tahir  staff    64B Feb 15 14:26 \u001b[34mtest123\u001b[m\u001b[m\n"
     ]
    }
   ],
   "source": [
    "!ls -lah"
   ]
  },
  {
   "cell_type": "code",
   "execution_count": null,
   "id": "74ba6c92",
   "metadata": {},
   "outputs": [],
   "source": []
  },
  {
   "cell_type": "code",
   "execution_count": 16,
   "id": "b8d7dade",
   "metadata": {},
   "outputs": [
    {
     "name": "stdout",
     "output_type": "stream",
     "text": [
      "Hello\n",
      "World\n",
      "Writing a new line by TahirWriting a new line by TahirWriting a new line by Tahir\n",
      "Writing a new line by Tahir\n",
      "Writing a new line by Tahir\n",
      "\n"
     ]
    }
   ],
   "source": [
    "def copy_contents(file1, file2):\n",
    "    \n",
    "    with open(f'{file1}', 'r') as file_1:\n",
    "        contents = file_1.read()\n",
    "        print(contents)\n",
    "    \n",
    "    with open(f\"{file2}\", 'w') as file_2:\n",
    "        file_2.write(contents)\n",
    "        \n",
    "    return None\n",
    "\n",
    "copy_contents('example.txt', 'log.txt')"
   ]
  },
  {
   "cell_type": "markdown",
   "id": "b22b8e53",
   "metadata": {},
   "source": [
    "### Assignment 4: Appending to a File\n",
    "\n",
    "Write a function that appends a given string to the end of a file named `log.txt`.\n",
    "\n",
    "### Assignment 5: Counting Words in a File\n",
    "\n",
    "Write a function that reads the contents of a file named `document.txt` and returns the number of words in the file."
   ]
  },
  {
   "cell_type": "code",
   "execution_count": 19,
   "id": "54e77a2b",
   "metadata": {},
   "outputs": [],
   "source": [
    "def append_to_file(file_name, new_text):\n",
    "\n",
    "    with open(f\"{file_name}\", 'a') as f:\n",
    "        f.write(\"\\n\" + new_text + \"\\n\")\n",
    "    \n",
    "    return None\n",
    "\n",
    "append_to_file('log.txt', \"Tahir 2025\")"
   ]
  },
  {
   "cell_type": "code",
   "execution_count": 26,
   "id": "35cb7dc4",
   "metadata": {},
   "outputs": [
    {
     "name": "stdout",
     "output_type": "stream",
     "text": [
      "34\n"
     ]
    }
   ],
   "source": [
    "def count_words_in_file(file_name):\n",
    "\n",
    "    with open(f\"{file_name}\", 'r') as f:\n",
    "        contents = f.read()\n",
    "        num_words = contents.strip().split()\n",
    "    \n",
    "    return len(num_words)\n",
    "\n",
    "print(count_words_in_file('log.txt'))"
   ]
  },
  {
   "cell_type": "markdown",
   "id": "672aa541",
   "metadata": {},
   "source": [
    "# Module: File Handling Assignments\n",
    "## Lesson: File Handling and Operations\n",
    "### Assignment 1: Reading a File\n",
    "\n",
    "Write a function that reads the contents of a file named `sample.txt` and prints each line.\n",
    "\n",
    "### Assignment 2: Writing to a File\n",
    "\n",
    "Write a function that writes a list of strings to a file named `output.txt`, with each string on a new line.\n",
    "\n",
    "### Assignment 3: Copying a File\n",
    "\n",
    "Write a function that copies the contents of a file named `source.txt` to a new file named `destination.txt`.\n",
    "\n",
    "### Assignment 4: Appending to a File\n",
    "\n",
    "Write a function that appends a given string to the end of a file named `log.txt`.\n",
    "\n",
    "### Assignment 5: Counting Words in a File\n",
    "\n",
    "Write a function that reads the contents of a file named `document.txt` and returns the number of words in the file.\n",
    "\n",
    "### Assignment 6: Finding and Replacing Text\n",
    "\n",
    "Write a function that finds and replaces all occurrences of a given word in a file named `data.txt` with another word.\n",
    "\n",
    "### Assignment 7: Reading a File in Reverse\n",
    "\n",
    "Write a function that reads the contents of a file named `reverse.txt` and prints each line in reverse order.\n",
    "\n",
    "### Assignment 8: Counting Lines, Words, and Characters\n",
    "\n",
    "Write a function that reads the contents of a file named `stats.txt` and returns the number of lines, words, and characters in the file.\n",
    "\n",
    "### Assignment 9: Merging Multiple Files\n",
    "\n",
    "Write a function that merges the contents of multiple files into a single file named `merged.txt`.\n",
    "\n",
    "### Assignment 10: Splitting a Large File\n",
    "\n",
    "Write a function that splits a large file named `large.txt` into smaller files of 100 lines each.\n",
    "\n",
    "### Assignment 11: Creating a Log File\n",
    "\n",
    "Write a function that creates a log file named `activity.log` and writes log messages with timestamps.\n",
    "\n",
    "### Assignment 12: Binary File Operations\n",
    "\n",
    "Write a function that reads a binary file named `image.bin` and writes its contents to another binary file named `copy_image.bin`.\n",
    "\n",
    "### Assignment 13: CSV File Operations\n",
    "\n",
    "Write a function that reads a CSV file named `data.csv` and prints its contents as a list of dictionaries.\n",
    "\n",
    "### Assignment 14: JSON File Operations\n",
    "\n",
    "Write a function that reads a JSON file named `data.json` and prints its contents as a Python dictionary.\n",
    "\n",
    "### Assignment 15: File Permission Handling\n",
    "\n",
    "Write a function that attempts to read a file named `protected.txt` and handles any permission errors gracefully by printing an error message."
   ]
  },
  {
   "cell_type": "code",
   "execution_count": null,
   "id": "0f6c0679",
   "metadata": {},
   "outputs": [],
   "source": []
  }
 ],
 "metadata": {
  "kernelspec": {
   "display_name": "Python 3",
   "language": "python",
   "name": "python3"
  },
  "language_info": {
   "codemirror_mode": {
    "name": "ipython",
    "version": 3
   },
   "file_extension": ".py",
   "mimetype": "text/x-python",
   "name": "python",
   "nbconvert_exporter": "python",
   "pygments_lexer": "ipython3",
   "version": "3.9.10"
  }
 },
 "nbformat": 4,
 "nbformat_minor": 5
}
